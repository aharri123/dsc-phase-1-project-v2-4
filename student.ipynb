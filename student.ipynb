{
 "cells": [
  {
   "cell_type": "markdown",
   "metadata": {},
   "source": [
    "## Final Project Submission\n",
    "\n",
    "Please fill out:\n",
    "* Student name: \n",
    "* Student pace: self paced / part time / full time\n",
    "* Scheduled project review date/time: \n",
    "* Instructor name: \n",
    "* Blog post URL:\n"
   ]
  },
  {
   "cell_type": "code",
   "execution_count": 1,
   "metadata": {},
   "outputs": [],
   "source": [
    "import pandas as pd\n",
    "import sqlite3\n",
    "\n",
    "#Let's open the csv file for movie gross earnings\n",
    "df = pd.read_csv(\"bom.movie_gross.csv\")"
   ]
  },
  {
   "cell_type": "code",
   "execution_count": 2,
   "metadata": {
    "scrolled": true
   },
   "outputs": [
    {
     "name": "stdout",
     "output_type": "stream",
     "text": [
      "                             title studio  domestic_gross foreign_gross  year\n",
      "1872  Star Wars: The Force Awakens     BV     936700000.0       1,131.6  2015\n"
     ]
    }
   ],
   "source": [
    "#Let's look at a few pieces of information\n",
    "#Let's start by finding the highest domestic grossing movie\n",
    "max_dom_gross = df['domestic_gross'].max()\n",
    "print(df.loc[df['domestic_gross'] == max_dom_gross])"
   ]
  },
  {
   "cell_type": "code",
   "execution_count": 3,
   "metadata": {},
   "outputs": [],
   "source": [
    "df.loc[1872, 'foreign_gross'] = 1131561399 #Correcting the foreign gross amount to be accurate\n",
    "df.loc[1873, 'foreign_gross'] = 1018130012\n",
    "df.loc[3079, 'foreign_gross'] = 1369544272\n",
    "df.loc[1874, 'foreign_gross'] = 1162040651\n",
    "df.loc[2760, 'foreign_gross'] =  1009996733"
   ]
  },
  {
   "cell_type": "code",
   "execution_count": 4,
   "metadata": {
    "scrolled": true
   },
   "outputs": [
    {
     "data": {
      "text/html": [
       "<div>\n",
       "<style scoped>\n",
       "    .dataframe tbody tr th:only-of-type {\n",
       "        vertical-align: middle;\n",
       "    }\n",
       "\n",
       "    .dataframe tbody tr th {\n",
       "        vertical-align: top;\n",
       "    }\n",
       "\n",
       "    .dataframe thead th {\n",
       "        text-align: right;\n",
       "    }\n",
       "</style>\n",
       "<table border=\"1\" class=\"dataframe\">\n",
       "  <thead>\n",
       "    <tr style=\"text-align: right;\">\n",
       "      <th></th>\n",
       "      <th>title</th>\n",
       "      <th>studio</th>\n",
       "      <th>domestic_gross</th>\n",
       "      <th>foreign_gross</th>\n",
       "      <th>year</th>\n",
       "    </tr>\n",
       "  </thead>\n",
       "  <tbody>\n",
       "    <tr>\n",
       "      <th>0</th>\n",
       "      <td>Toy Story 3</td>\n",
       "      <td>BV</td>\n",
       "      <td>415000000.0</td>\n",
       "      <td>652000000</td>\n",
       "      <td>2010</td>\n",
       "    </tr>\n",
       "    <tr>\n",
       "      <th>727</th>\n",
       "      <td>Marvel's The Avengers</td>\n",
       "      <td>BV</td>\n",
       "      <td>623400000.0</td>\n",
       "      <td>895500000</td>\n",
       "      <td>2012</td>\n",
       "    </tr>\n",
       "    <tr>\n",
       "      <th>729</th>\n",
       "      <td>The Dark Knight Rises</td>\n",
       "      <td>WB</td>\n",
       "      <td>448100000.0</td>\n",
       "      <td>636800000</td>\n",
       "      <td>2012</td>\n",
       "    </tr>\n",
       "    <tr>\n",
       "      <th>735</th>\n",
       "      <td>The Hunger Games</td>\n",
       "      <td>LGF</td>\n",
       "      <td>408000000.0</td>\n",
       "      <td>286400000</td>\n",
       "      <td>2012</td>\n",
       "    </tr>\n",
       "    <tr>\n",
       "      <th>1127</th>\n",
       "      <td>Frozen</td>\n",
       "      <td>BV</td>\n",
       "      <td>400700000.0</td>\n",
       "      <td>875700000</td>\n",
       "      <td>2013</td>\n",
       "    </tr>\n",
       "    <tr>\n",
       "      <th>1128</th>\n",
       "      <td>Iron Man 3</td>\n",
       "      <td>BV</td>\n",
       "      <td>409000000.0</td>\n",
       "      <td>805800000</td>\n",
       "      <td>2013</td>\n",
       "    </tr>\n",
       "    <tr>\n",
       "      <th>1131</th>\n",
       "      <td>The Hunger Games: Catching Fire</td>\n",
       "      <td>LGF</td>\n",
       "      <td>424700000.0</td>\n",
       "      <td>440300000</td>\n",
       "      <td>2013</td>\n",
       "    </tr>\n",
       "    <tr>\n",
       "      <th>1872</th>\n",
       "      <td>Star Wars: The Force Awakens</td>\n",
       "      <td>BV</td>\n",
       "      <td>936700000.0</td>\n",
       "      <td>1131561399</td>\n",
       "      <td>2015</td>\n",
       "    </tr>\n",
       "    <tr>\n",
       "      <th>1873</th>\n",
       "      <td>Jurassic World</td>\n",
       "      <td>Uni.</td>\n",
       "      <td>652300000.0</td>\n",
       "      <td>1018130012</td>\n",
       "      <td>2015</td>\n",
       "    </tr>\n",
       "    <tr>\n",
       "      <th>1875</th>\n",
       "      <td>Avengers: Age of Ultron</td>\n",
       "      <td>BV</td>\n",
       "      <td>459000000.0</td>\n",
       "      <td>946400000</td>\n",
       "      <td>2015</td>\n",
       "    </tr>\n",
       "    <tr>\n",
       "      <th>2322</th>\n",
       "      <td>Captain America: Civil War</td>\n",
       "      <td>BV</td>\n",
       "      <td>408100000.0</td>\n",
       "      <td>745200000</td>\n",
       "      <td>2016</td>\n",
       "    </tr>\n",
       "    <tr>\n",
       "      <th>2323</th>\n",
       "      <td>Rogue One: A Star Wars Story</td>\n",
       "      <td>BV</td>\n",
       "      <td>532200000.0</td>\n",
       "      <td>523900000</td>\n",
       "      <td>2016</td>\n",
       "    </tr>\n",
       "    <tr>\n",
       "      <th>2324</th>\n",
       "      <td>Finding Dory</td>\n",
       "      <td>BV</td>\n",
       "      <td>486300000.0</td>\n",
       "      <td>542300000</td>\n",
       "      <td>2016</td>\n",
       "    </tr>\n",
       "    <tr>\n",
       "      <th>2758</th>\n",
       "      <td>Star Wars: The Last Jedi</td>\n",
       "      <td>BV</td>\n",
       "      <td>620200000.0</td>\n",
       "      <td>712400000</td>\n",
       "      <td>2017</td>\n",
       "    </tr>\n",
       "    <tr>\n",
       "      <th>2759</th>\n",
       "      <td>Beauty and the Beast (2017)</td>\n",
       "      <td>BV</td>\n",
       "      <td>504000000.0</td>\n",
       "      <td>759500000</td>\n",
       "      <td>2017</td>\n",
       "    </tr>\n",
       "    <tr>\n",
       "      <th>2762</th>\n",
       "      <td>Jumanji: Welcome to the Jungle</td>\n",
       "      <td>Sony</td>\n",
       "      <td>404500000.0</td>\n",
       "      <td>557600000</td>\n",
       "      <td>2017</td>\n",
       "    </tr>\n",
       "    <tr>\n",
       "      <th>2767</th>\n",
       "      <td>Wonder Woman</td>\n",
       "      <td>WB</td>\n",
       "      <td>412600000.0</td>\n",
       "      <td>409300000</td>\n",
       "      <td>2017</td>\n",
       "    </tr>\n",
       "    <tr>\n",
       "      <th>3079</th>\n",
       "      <td>Avengers: Infinity War</td>\n",
       "      <td>BV</td>\n",
       "      <td>678800000.0</td>\n",
       "      <td>1369544272</td>\n",
       "      <td>2018</td>\n",
       "    </tr>\n",
       "    <tr>\n",
       "      <th>3080</th>\n",
       "      <td>Black Panther</td>\n",
       "      <td>BV</td>\n",
       "      <td>700100000.0</td>\n",
       "      <td>646900000</td>\n",
       "      <td>2018</td>\n",
       "    </tr>\n",
       "    <tr>\n",
       "      <th>3081</th>\n",
       "      <td>Jurassic World: Fallen Kingdom</td>\n",
       "      <td>Uni.</td>\n",
       "      <td>417700000.0</td>\n",
       "      <td>891800000</td>\n",
       "      <td>2018</td>\n",
       "    </tr>\n",
       "    <tr>\n",
       "      <th>3082</th>\n",
       "      <td>Incredibles 2</td>\n",
       "      <td>BV</td>\n",
       "      <td>608600000.0</td>\n",
       "      <td>634200000</td>\n",
       "      <td>2018</td>\n",
       "    </tr>\n",
       "  </tbody>\n",
       "</table>\n",
       "</div>"
      ],
      "text/plain": [
       "                                title studio  domestic_gross foreign_gross  \\\n",
       "0                         Toy Story 3     BV     415000000.0     652000000   \n",
       "727             Marvel's The Avengers     BV     623400000.0     895500000   \n",
       "729             The Dark Knight Rises     WB     448100000.0     636800000   \n",
       "735                  The Hunger Games    LGF     408000000.0     286400000   \n",
       "1127                           Frozen     BV     400700000.0     875700000   \n",
       "1128                       Iron Man 3     BV     409000000.0     805800000   \n",
       "1131  The Hunger Games: Catching Fire    LGF     424700000.0     440300000   \n",
       "1872     Star Wars: The Force Awakens     BV     936700000.0    1131561399   \n",
       "1873                   Jurassic World   Uni.     652300000.0    1018130012   \n",
       "1875          Avengers: Age of Ultron     BV     459000000.0     946400000   \n",
       "2322       Captain America: Civil War     BV     408100000.0     745200000   \n",
       "2323     Rogue One: A Star Wars Story     BV     532200000.0     523900000   \n",
       "2324                     Finding Dory     BV     486300000.0     542300000   \n",
       "2758         Star Wars: The Last Jedi     BV     620200000.0     712400000   \n",
       "2759      Beauty and the Beast (2017)     BV     504000000.0     759500000   \n",
       "2762   Jumanji: Welcome to the Jungle   Sony     404500000.0     557600000   \n",
       "2767                     Wonder Woman     WB     412600000.0     409300000   \n",
       "3079           Avengers: Infinity War     BV     678800000.0    1369544272   \n",
       "3080                    Black Panther     BV     700100000.0     646900000   \n",
       "3081   Jurassic World: Fallen Kingdom   Uni.     417700000.0     891800000   \n",
       "3082                    Incredibles 2     BV     608600000.0     634200000   \n",
       "\n",
       "      year  \n",
       "0     2010  \n",
       "727   2012  \n",
       "729   2012  \n",
       "735   2012  \n",
       "1127  2013  \n",
       "1128  2013  \n",
       "1131  2013  \n",
       "1872  2015  \n",
       "1873  2015  \n",
       "1875  2015  \n",
       "2322  2016  \n",
       "2323  2016  \n",
       "2324  2016  \n",
       "2758  2017  \n",
       "2759  2017  \n",
       "2762  2017  \n",
       "2767  2017  \n",
       "3079  2018  \n",
       "3080  2018  \n",
       "3081  2018  \n",
       "3082  2018  "
      ]
     },
     "execution_count": 4,
     "metadata": {},
     "output_type": "execute_result"
    }
   ],
   "source": [
    "#Let's find the top grossing movies that made at least 400000000 in the domestic box office.\n",
    "\n",
    "df_range = df.loc[(df['domestic_gross'] > 400000000.0) & (df['domestic_gross'] <= 936700000.0)]\n",
    "df_range"
   ]
  },
  {
   "cell_type": "code",
   "execution_count": 5,
   "metadata": {},
   "outputs": [
    {
     "name": "stdout",
     "output_type": "stream",
     "text": [
      "<class 'pandas.core.frame.DataFrame'>\n",
      "RangeIndex: 3387 entries, 0 to 3386\n",
      "Data columns (total 5 columns):\n",
      " #   Column          Non-Null Count  Dtype  \n",
      "---  ------          --------------  -----  \n",
      " 0   title           3387 non-null   object \n",
      " 1   studio          3382 non-null   object \n",
      " 2   domestic_gross  3359 non-null   float64\n",
      " 3   foreign_gross   2037 non-null   object \n",
      " 4   year            3387 non-null   int64  \n",
      "dtypes: float64(1), int64(1), object(3)\n",
      "memory usage: 132.4+ KB\n"
     ]
    }
   ],
   "source": [
    "#let's look at the highest foreign grossing movie.\n",
    "# But before that, we need to manipulate some data\n",
    "#Let's look at the data types for the DF\n",
    "df.info()\n"
   ]
  },
  {
   "cell_type": "code",
   "execution_count": 6,
   "metadata": {},
   "outputs": [],
   "source": [
    "#Under foreign_gross, it appears that there are some null values, and that the type of the column is string.\n",
    "#We need to remove null values, and convert to integer to find the highest foreign grossing movie.\n",
    "\n",
    "df.dropna(subset = ['foreign_gross'], inplace = True)\n",
    "df['foreign_gross'] = df['foreign_gross'].astype(str).astype(int)"
   ]
  },
  {
   "cell_type": "code",
   "execution_count": 7,
   "metadata": {},
   "outputs": [
    {
     "name": "stdout",
     "output_type": "stream",
     "text": [
      "                       title studio  domestic_gross  foreign_gross  year\n",
      "3079  Avengers: Infinity War     BV     678800000.0     1369544272  2018\n"
     ]
    }
   ],
   "source": [
    "#Finding highest foreign grossing movie\n",
    "max_for_gross = df['foreign_gross'].max()\n",
    "print(df.loc[df['foreign_gross'] == max_for_gross])"
   ]
  },
  {
   "cell_type": "markdown",
   "metadata": {},
   "source": [
    "Looking at the years for this data, it looks like the years range from 2010 to 2018. So between the years of 2010 and 2018, the top domestic grossing movie was \"Star Wars: The Force Awakens\" and the top foreign grossing movie was \"Avengers: Infinity War\"."
   ]
  },
  {
   "cell_type": "markdown",
   "metadata": {},
   "source": [
    "Next, let's look at the production budget of several movies."
   ]
  },
  {
   "cell_type": "code",
   "execution_count": 8,
   "metadata": {},
   "outputs": [
    {
     "data": {
      "text/html": [
       "<div>\n",
       "<style scoped>\n",
       "    .dataframe tbody tr th:only-of-type {\n",
       "        vertical-align: middle;\n",
       "    }\n",
       "\n",
       "    .dataframe tbody tr th {\n",
       "        vertical-align: top;\n",
       "    }\n",
       "\n",
       "    .dataframe thead th {\n",
       "        text-align: right;\n",
       "    }\n",
       "</style>\n",
       "<table border=\"1\" class=\"dataframe\">\n",
       "  <thead>\n",
       "    <tr style=\"text-align: right;\">\n",
       "      <th></th>\n",
       "      <th>id</th>\n",
       "      <th>release_date</th>\n",
       "      <th>movie</th>\n",
       "      <th>production_budget</th>\n",
       "      <th>domestic_gross</th>\n",
       "      <th>worldwide_gross</th>\n",
       "    </tr>\n",
       "  </thead>\n",
       "  <tbody>\n",
       "    <tr>\n",
       "      <th>0</th>\n",
       "      <td>1</td>\n",
       "      <td>Dec 18, 2009</td>\n",
       "      <td>Avatar</td>\n",
       "      <td>425000000</td>\n",
       "      <td>760507625</td>\n",
       "      <td>2776345279</td>\n",
       "    </tr>\n",
       "    <tr>\n",
       "      <th>1</th>\n",
       "      <td>2</td>\n",
       "      <td>May 20, 2011</td>\n",
       "      <td>Pirates of the Caribbean: On Stranger Tides</td>\n",
       "      <td>410600000</td>\n",
       "      <td>241063875</td>\n",
       "      <td>1045663875</td>\n",
       "    </tr>\n",
       "    <tr>\n",
       "      <th>2</th>\n",
       "      <td>3</td>\n",
       "      <td>Jun 7, 2019</td>\n",
       "      <td>Dark Phoenix</td>\n",
       "      <td>350000000</td>\n",
       "      <td>42762350</td>\n",
       "      <td>149762350</td>\n",
       "    </tr>\n",
       "    <tr>\n",
       "      <th>3</th>\n",
       "      <td>4</td>\n",
       "      <td>May 1, 2015</td>\n",
       "      <td>Avengers: Age of Ultron</td>\n",
       "      <td>330600000</td>\n",
       "      <td>459005868</td>\n",
       "      <td>1403013963</td>\n",
       "    </tr>\n",
       "    <tr>\n",
       "      <th>4</th>\n",
       "      <td>5</td>\n",
       "      <td>Dec 15, 2017</td>\n",
       "      <td>Star Wars Ep. VIII: The Last Jedi</td>\n",
       "      <td>317000000</td>\n",
       "      <td>620181382</td>\n",
       "      <td>1316721747</td>\n",
       "    </tr>\n",
       "  </tbody>\n",
       "</table>\n",
       "</div>"
      ],
      "text/plain": [
       "   id  release_date                                        movie  \\\n",
       "0   1  Dec 18, 2009                                       Avatar   \n",
       "1   2  May 20, 2011  Pirates of the Caribbean: On Stranger Tides   \n",
       "2   3   Jun 7, 2019                                 Dark Phoenix   \n",
       "3   4   May 1, 2015                      Avengers: Age of Ultron   \n",
       "4   5  Dec 15, 2017            Star Wars Ep. VIII: The Last Jedi   \n",
       "\n",
       "   production_budget  domestic_gross  worldwide_gross  \n",
       "0          425000000       760507625       2776345279  \n",
       "1          410600000       241063875       1045663875  \n",
       "2          350000000        42762350        149762350  \n",
       "3          330600000       459005868       1403013963  \n",
       "4          317000000       620181382       1316721747  "
      ]
     },
     "execution_count": 8,
     "metadata": {},
     "output_type": "execute_result"
    }
   ],
   "source": [
    "#First let's do some cleanup\n",
    "\n",
    "df_budget = pd.read_csv('tn.movie_budgets.csv')\n",
    "\n",
    "#Let's get rid of the dollar signs and commas in the column values\n",
    "df_budget['production_budget'] = df_budget['production_budget'].str.replace('$','')\n",
    "df_budget['production_budget'] = df_budget['production_budget'].str.replace(',','')\n",
    "df_budget['domestic_gross'] = df_budget['domestic_gross'].str.replace('$','')\n",
    "df_budget['domestic_gross'] = df_budget['domestic_gross'].str.replace(',','')\n",
    "df_budget['worldwide_gross'] = df_budget['worldwide_gross'].str.replace('$','')\n",
    "df_budget['worldwide_gross'] = df_budget['worldwide_gross'].str.replace(',','')\n",
    "\n",
    "\n",
    "#Now let's convert the strings to ints\n",
    "df_budget['production_budget'] = df_budget['production_budget'].astype(str).astype('int')\n",
    "df_budget['domestic_gross'] = df_budget['domestic_gross'].astype(str).astype('int')\n",
    "df_budget['worldwide_gross'] = df_budget['worldwide_gross'].astype(str).astype('int64')\n",
    "\n",
    "df_budget.head()"
   ]
  },
  {
   "cell_type": "code",
   "execution_count": 9,
   "metadata": {},
   "outputs": [
    {
     "name": "stdout",
     "output_type": "stream",
     "text": [
      "   id  release_date   movie  production_budget  domestic_gross  \\\n",
      "0   1  Dec 18, 2009  Avatar          425000000       760507625   \n",
      "\n",
      "   worldwide_gross  \n",
      "0       2776345279  \n"
     ]
    }
   ],
   "source": [
    "#Let's find the highest production budget movie\n",
    "\n",
    "max_budget = df_budget['production_budget'].max()\n",
    "print(df_budget.loc[df_budget['production_budget'] == max_budget])"
   ]
  },
  {
   "cell_type": "markdown",
   "metadata": {},
   "source": [
    "It looks like the highest production budget goes to Avatar, which is also currently the highest grossing movie of all time. Let's see if there's a correlation between production budget and how much a movie grosses."
   ]
  },
  {
   "cell_type": "code",
   "execution_count": 10,
   "metadata": {},
   "outputs": [
    {
     "name": "stdout",
     "output_type": "stream",
     "text": [
      "The correlation coefficient between Production budget and domestic box office is: 0.6856818396752733\n",
      "The correlation coefficient between Production budget and worldwide box office is: 0.7483059765694753\n"
     ]
    },
    {
     "data": {
      "image/png": "[encoded data removed]",
      "text/plain": [
       "<Figure size 432x288 with 1 Axes>"
      ]
     },
     "metadata": {
      "needs_background": "light"
     },
     "output_type": "display_data"
    },
    {
     "data": {
      "image/png": "[encoded data removed]",
      "text/plain": [
       "<Figure size 432x288 with 1 Axes>"
      ]
     },
     "metadata": {
      "needs_background": "light"
     },
     "output_type": "display_data"
    }
   ],
   "source": [
    "#Let's create a scatterplot and find the correlation coeffient\n",
    "\n",
    "\n",
    "#Let's look at production budget and domestic gross\n",
    "ax1 = df_budget.head(30).plot('production_budget', 'domestic_gross', s = 60,  kind = 'scatter');\n",
    "ax1.set_title('Production budget vs Domestic Box Office ')\n",
    "dom_corr = df_budget['production_budget'].corr(df_budget['domestic_gross'])\n",
    "print(\"The correlation coefficient between Production budget and domestic box office is:\", dom_corr)\n",
    "\n",
    "#Now let's look at production budget and worldwide gross\n",
    "ax2 = df_budget.head(30).plot('production_budget', 'worldwide_gross', s = 60, kind = 'scatter')\n",
    "ax2.set_title(\"Production Budget vs Worldwide Box Office\")\n",
    "world_corr = df_budget['production_budget'].corr(df_budget['worldwide_gross'])\n",
    "print(\"The correlation coefficient between Production budget and worldwide box office is:\", world_corr)\n"
   ]
  },
  {
   "cell_type": "markdown",
   "metadata": {},
   "source": [
    "The graph and the correlation coefficient suggest a strong relationship between production budget and both domestic box office and worldwide box office gross earnings."
   ]
  },
  {
   "cell_type": "code",
   "execution_count": null,
   "metadata": {
    "scrolled": true
   },
   "outputs": [],
   "source": [
    "conn = sqlite3.connect(\"im.db\")\n",
    "\n",
    "df = pd.read_sql(\"\"\"\n",
    "        SELECT *\n",
    "        FROM movie_basics\n",
    "        JOIN movie_ratings\n",
    "        USING(movie_id)\n",
    "        JOIN directors\n",
    "        USING(movie_id)\n",
    "        JOIN persons\n",
    "        USING(person_id)\n",
    "        ORDER BY numvotes DESC\n",
    "        \"\"\",conn\n",
    ")\n",
    "\n",
    "df = df.drop_duplicates(subset = \"primary_title\")\n",
    "df.rename(columns = {\"primary_name\": \"Director\"}, inplace = True)\n",
    "df.drop(['birth_year','death_year','primary_profession'], axis = 1)\n",
    "df.head(50)"
   ]
  }
 ],
 "metadata": {
  "kernelspec": {
   "display_name": "Python 3",
   "language": "python",
   "name": "python3"
  },
  "language_info": {
   "codemirror_mode": {
    "name": "ipython",
    "version": 3
   },
   "file_extension": ".py",
   "mimetype": "text/x-python",
   "name": "python",
   "nbconvert_exporter": "python",
   "pygments_lexer": "ipython3",
   "version": "3.8.5"
  }
 },
 "nbformat": 4,
 "nbformat_minor": 2
}
